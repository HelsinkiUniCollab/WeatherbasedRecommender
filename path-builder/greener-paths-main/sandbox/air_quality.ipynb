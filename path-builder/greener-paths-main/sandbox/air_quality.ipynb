{
 "cells": [
  {
   "cell_type": "code",
   "execution_count": 1,
   "metadata": {},
   "outputs": [],
   "source": [
    "import requests\n",
    "from utils.weather_utils import ns\n",
    "import datetime\n",
    "import xml.etree.ElementTree as ET\n",
    "import numpy as np\n",
    "import matplotlib.pyplot as plt"
   ]
  },
  {
   "cell_type": "code",
   "execution_count": 50,
   "metadata": {},
   "outputs": [],
   "source": [
    "start_time = datetime.datetime.now()\n",
    "end_time = start_time - datetime.timedelta(hours=12)\n",
    "start_time = start_time.strftime(\"%Y-%m-%dT%H:%M:%SZ\")\n",
    "end_time = end_time.strftime(\"%Y-%m-%dT%H:%M:%SZ\")\n",
    "\n",
    "# Get the data from FMI in xml format\n",
    "url = (\n",
    "    \"http://opendata.fmi.fi/wfs/fin?service=WFS&version=2.0.0\"\n",
    "    \"&request=GetFeature\"\n",
    "    # \"&storedquery_id=fmi::forecast::silam::airquality::surface::point::multipointcoverage\"\n",
    "    \"&storedquery_id=fmi::forecast::enfuser::airquality::helsinki-metropolitan::grid\"\n",
    "    \"&parameters=AQIndex\"\n",
    "    \"bbox=24.58,60.1321,25.1998,60.368\"\n",
    "    # f\"&starttime={start_time}&endtime={end_time}&\"\n",
    "    # f\"&starttime={start_time}&endtime={end_time}&\"\n",
    "    )\n",
    "\n",
    "resp = requests.get(url)\n",
    "resp.raise_for_status()\n",
    "\n",
    "with open(\"weather_data/air_quality_test.xml\", \"w\") as f:\n",
    "    f.writelines(resp.text)\n",
    "# The fromstring method returns the root\n",
    "root = ET.fromstring(resp.content.decode(\"utf-8\"))"
   ]
  },
  {
   "cell_type": "code",
   "execution_count": 51,
   "metadata": {},
   "outputs": [
    {
     "name": "stdout",
     "output_type": "stream",
     "text": [
      "https://opendata.fmi.fi/download?producer=enfuser_helsinki_metropolitan&param=AQIndex&bbox=24.58,60.1321,25.1998,60.368&levels=0&origintime=2023-08-14T12:00:00Z&starttime=2023-08-14T12:00:00Z&endtime=2023-08-16T03:00:00Z&format=netcdf&projection=EPSG:4326\n",
      "<Response [200]>\n"
     ]
    }
   ],
   "source": [
    "start = \"2023-08-14T06:00:00Z\"\n",
    "end = \"2023-08-15T21:00:00Z\"\n",
    "\n",
    "# url = root.find(\"./wfs:member/omso:GridSeriesObservation/om:result/gmlcov:RectifiedGridCoverage/gml:rangeSet/gml:File/gml:fileReference\", ns).text\n",
    "begin_position = root.find(\"./wfs:member/omso:GridSeriesObservation/om:phenomenonTime/gml:TimePeriod/gml:beginPosition\", ns).text\n",
    "end_position = root.find(\"./wfs:member/omso:GridSeriesObservation/om:phenomenonTime/gml:TimePeriod/gml:endPosition\", ns).text\n",
    "# url = \"https://opendata.fmi.fi/download?producer=enfuser_helsinki_metropolitan&param=AQIndex&bbox=24.58,60.1321,25.1998,60.368&levels=0&origintime=2023-07-20T10:00:00Z&starttime=2023-07-22T12:00:00Z&endtime=2023-07-22T13:00:00Z&format=netcdf&projection=EPSG:4326\"\n",
    "url = f\"https://opendata.fmi.fi/download?producer=enfuser_helsinki_metropolitan&param=AQIndex&bbox=24.58,60.1321,25.1998,60.368&levels=0&origintime={begin_position}&starttime={begin_position}&endtime={end_position}&format=netcdf&projection=EPSG:4326\"\n",
    "print(url)\n",
    "# url = \"https://opendata.fmi.fi/download?producer=enfuser_helsinki_metropolitan&param=AQIndex,NO2Concentration,O3Concentration,PM10Concentration,PM25Concentration,LungDepositedSurfaceArea,BlackCarbonConcentration&bbox=24.58,60.1321,25.1998,60.368&levels=0&origintime=2023-07-20T10:00:00Z&starttime=2023-07-20T10:00:00Z&endtime=2023-07-22T01:00:00Z&format=netcdf&projection=EPSG:4326\"\n",
    "tt = requests.get(url)\n",
    "\n",
    "print(tt)\n",
    "# file_tag = root.find(\".//gml:File.\", ns,)\n",
    "# print(file_tag)\n",
    "# file_tag.find(\"gml:fileReference\", ns).text\n",
    "\n",
    "# print(temp.text)\n",
    "\n",
    "# Get the temperature value\n",
    "# temperature = root.find(\n",
    "#     \".//wml2:MeasurementTimeseries[@gml:id='mts-1-1-temperature']//wml2:value\",\n",
    "#     ns,\n",
    "# )\n",
    "# temperature = float(temperature.text)\n",
    "\n",
    "# http://opendata.fmi.fi/download?producer=enfuser_helsinki_metropolitan&param=&bbox=24.58,60.1321,25.1998,60.368&levels=0&origintime=2023-08-14T18:00:00Z&starttime=2023-08-14T18:00:00Z&endtime=2023-08-16T09:00:00Z&format=netcdf&projection=EPSG:4326"
   ]
  },
  {
   "cell_type": "code",
   "execution_count": 53,
   "metadata": {},
   "outputs": [],
   "source": [
    "with open(\"data/aqi_download_test.nc\", \"wb\") as f:\n",
    "    f.write(tt.content)"
   ]
  },
  {
   "cell_type": "code",
   "execution_count": 78,
   "metadata": {},
   "outputs": [
    {
     "name": "stdout",
     "output_type": "stream",
     "text": [
      "NETCDF3_64BIT_OFFSET\n",
      "{}\n",
      "{'time': <class 'netCDF4._netCDF4.Dimension'>: name = 'time', size = 40, 'lat': <class 'netCDF4._netCDF4.Dimension'>: name = 'lat', size = 2018, 'lon': <class 'netCDF4._netCDF4.Dimension'>: name = 'lon', size = 2631}\n",
      "time <class 'netCDF4._netCDF4.Variable'>\n",
      "int32 time(time)\n",
      "    long_name: time\n",
      "    calendar: gregorian\n",
      "    units: hours since 2023-08-14 12:00:00\n",
      "unlimited dimensions: \n",
      "current shape = (40,)\n",
      "filling on, default _FillValue of -2147483647 used\n",
      "crs <class 'netCDF4._netCDF4.Variable'>\n",
      "int16 crs()\n",
      "    grid_mapping_name: latitude_longitude\n",
      "    earth_radius: 6371220.0\n",
      "    crs_wkt: PROJCS[\"unknown\",GEOGCS[\"FMI_Sphere\",DATUM[\"FMI_2007\",SPHEROID[\"FMI_Sphere\",6371220,0]],PRIMEM[\"Greenwich\",0],UNIT[\"Degree\",0.0174532925199433]],PROJECTION[\"Equirectangular\"],PARAMETER[\"standard_parallel_1\",0],PARAMETER[\"central_meridian\",0],PARAMETER[\"false_easting\",0],PARAMETER[\"false_northing\",0],UNIT[\"metre\",1, AUTHORITY[\"EPSG\",\"9001\"]],AXIS[\"Easting\",EAST],AXIS[\"Northing\",NORTH]]\n",
      "unlimited dimensions: \n",
      "current shape = ()\n",
      "filling on, default _FillValue of -32767 used\n",
      "lat <class 'netCDF4._netCDF4.Variable'>\n",
      "float32 lat(lat)\n",
      "    standard_name: latitude\n",
      "    units: degrees_north\n",
      "    axis: Y\n",
      "    long_name: latitude\n",
      "unlimited dimensions: \n",
      "current shape = (2018,)\n",
      "filling on, default _FillValue of 9.969209968386869e+36 used\n",
      "lon <class 'netCDF4._netCDF4.Variable'>\n",
      "float32 lon(lon)\n",
      "    standard_name: longitude\n",
      "    units: degrees_east\n",
      "    axis: X\n",
      "    long_name: longitude\n",
      "unlimited dimensions: \n",
      "current shape = (2631,)\n",
      "filling on, default _FillValue of 9.969209968386869e+36 used\n",
      "index_of_airquality_194 <class 'netCDF4._netCDF4.Variable'>\n",
      "float32 index_of_airquality_194(time, lat, lon)\n",
      "    units: \n",
      "    _FillValue: 32700.0\n",
      "    missing_value: 32700.0\n",
      "    grid_mapping: crs\n",
      "    long_name: Air Quality Index near ground level in scale of 1 to 5\n",
      "unlimited dimensions: \n",
      "current shape = (40, 2018, 2631)\n",
      "filling on\n",
      "(40, 2018, 2631)\n",
      "<class 'netCDF4._netCDF4.Variable'>\n",
      "float32 index_of_airquality_194(time, lat, lon)\n",
      "    units: \n",
      "    _FillValue: 32700.0\n",
      "    missing_value: 32700.0\n",
      "    grid_mapping: crs\n",
      "    long_name: Air Quality Index near ground level in scale of 1 to 5\n",
      "unlimited dimensions: \n",
      "current shape = (40, 2018, 2631)\n",
      "filling on\n"
     ]
    }
   ],
   "source": [
    "from netCDF4 import Dataset\n",
    "import netCDF4\n",
    "\n",
    "# nc = Dataset(\n",
    "#     \"./data/enfuser_helsinki_metropolitan_20230726T100000_20230726T120000_20230728T130000_latlon.nc\"\n",
    "# )\n",
    "nc = Dataset(\n",
    "    # \"./data/enfuser_helsinki_test.nc\"\n",
    "    \"./data/aqi_download_test.nc\"\n",
    ")\n",
    "\n",
    "print(nc.data_model)\n",
    "print(nc.groups)\n",
    "print(nc.dimensions)\n",
    "for var, tt in nc.variables.items():\n",
    "    print(var, tt)\n",
    "# print(nc.variables)\n",
    "\n",
    "lat = nc.variables[\"lat\"][:]\n",
    "lon = nc.variables[\"lon\"][:]\n",
    "time = nc.variables[\"time\"][:]\n",
    "aqi = nc.variables[\"index_of_airquality_194\"][:]\n",
    "\n",
    "print(aqi.shape)\n",
    "print(nc.variables[\"index_of_airquality_194\"])\n",
    "\n",
    "# print(nc.variables[\"index_of_airquality_194\"][1,0,0])\n",
    "\n",
    "nc.close()"
   ]
  },
  {
   "cell_type": "code",
   "execution_count": 79,
   "metadata": {},
   "outputs": [
    {
     "name": "stdout",
     "output_type": "stream",
     "text": [
      "hours since 2023-08-14 12:00:00\n",
      "2023-08-15 19:00:00\n",
      "2023-08-15 15:25:41.472165\n",
      "False\n",
      "3:34:18.527835\n",
      "214.30879725000003\n",
      "True\n"
     ]
    }
   ],
   "source": [
    "import cftime\n",
    "import datetime\n",
    "\n",
    "nc = Dataset(\n",
    "    # \"./data/enfuser_helsinki_test.nc\"\n",
    "    \"./data/aqi_download_test.nc\"\n",
    ")\n",
    "time_var = nc.variables[\"time\"]\n",
    "print(time_var.units)\n",
    "dtime = netCDF4.num2date(time_var[:],time_var.units, time_var.calendar)\n",
    "# print(dtime)\n",
    "first_dtime = dtime[31]\n",
    "now = datetime.datetime.utcnow()\n",
    "print(first_dtime)\n",
    "print(now)\n",
    "\n",
    "print(first_dtime < now)\n",
    "print(first_dtime - now)\n",
    "print((first_dtime - now).total_seconds()/60)\n",
    "print(first_dtime - now > datetime.timedelta(hours=2))\n",
    "\n",
    "nc.close()"
   ]
  },
  {
   "cell_type": "code",
   "execution_count": 47,
   "metadata": {},
   "outputs": [
    {
     "name": "stdout",
     "output_type": "stream",
     "text": [
      "[cftime.DatetimeGregorian(2023, 8, 14, 8, 0, 0, 0, has_year_zero=False)\n",
      " cftime.DatetimeGregorian(2023, 8, 14, 9, 0, 0, 0, has_year_zero=False)\n",
      " cftime.DatetimeGregorian(2023, 8, 14, 10, 0, 0, 0, has_year_zero=False)\n",
      " cftime.DatetimeGregorian(2023, 8, 14, 11, 0, 0, 0, has_year_zero=False)\n",
      " cftime.DatetimeGregorian(2023, 8, 14, 12, 0, 0, 0, has_year_zero=False)\n",
      " cftime.DatetimeGregorian(2023, 8, 14, 13, 0, 0, 0, has_year_zero=False)\n",
      " cftime.DatetimeGregorian(2023, 8, 14, 14, 0, 0, 0, has_year_zero=False)\n",
      " cftime.DatetimeGregorian(2023, 8, 14, 15, 0, 0, 0, has_year_zero=False)\n",
      " cftime.DatetimeGregorian(2023, 8, 14, 16, 0, 0, 0, has_year_zero=False)\n",
      " cftime.DatetimeGregorian(2023, 8, 14, 17, 0, 0, 0, has_year_zero=False)\n",
      " cftime.DatetimeGregorian(2023, 8, 14, 18, 0, 0, 0, has_year_zero=False)\n",
      " cftime.DatetimeGregorian(2023, 8, 14, 19, 0, 0, 0, has_year_zero=False)\n",
      " cftime.DatetimeGregorian(2023, 8, 14, 20, 0, 0, 0, has_year_zero=False)\n",
      " cftime.DatetimeGregorian(2023, 8, 14, 21, 0, 0, 0, has_year_zero=False)\n",
      " cftime.DatetimeGregorian(2023, 8, 14, 22, 0, 0, 0, has_year_zero=False)\n",
      " cftime.DatetimeGregorian(2023, 8, 14, 23, 0, 0, 0, has_year_zero=False)\n",
      " cftime.DatetimeGregorian(2023, 8, 15, 0, 0, 0, 0, has_year_zero=False)\n",
      " cftime.DatetimeGregorian(2023, 8, 15, 1, 0, 0, 0, has_year_zero=False)\n",
      " cftime.DatetimeGregorian(2023, 8, 15, 2, 0, 0, 0, has_year_zero=False)\n",
      " cftime.DatetimeGregorian(2023, 8, 15, 3, 0, 0, 0, has_year_zero=False)\n",
      " cftime.DatetimeGregorian(2023, 8, 15, 4, 0, 0, 0, has_year_zero=False)\n",
      " cftime.DatetimeGregorian(2023, 8, 15, 5, 0, 0, 0, has_year_zero=False)\n",
      " cftime.DatetimeGregorian(2023, 8, 15, 6, 0, 0, 0, has_year_zero=False)\n",
      " cftime.DatetimeGregorian(2023, 8, 15, 7, 0, 0, 0, has_year_zero=False)\n",
      " cftime.DatetimeGregorian(2023, 8, 15, 8, 0, 0, 0, has_year_zero=False)\n",
      " cftime.DatetimeGregorian(2023, 8, 15, 9, 0, 0, 0, has_year_zero=False)\n",
      " cftime.DatetimeGregorian(2023, 8, 15, 10, 0, 0, 0, has_year_zero=False)\n",
      " cftime.DatetimeGregorian(2023, 8, 15, 11, 0, 0, 0, has_year_zero=False)\n",
      " cftime.DatetimeGregorian(2023, 8, 15, 12, 0, 0, 0, has_year_zero=False)\n",
      " cftime.DatetimeGregorian(2023, 8, 15, 13, 0, 0, 0, has_year_zero=False)\n",
      " cftime.DatetimeGregorian(2023, 8, 15, 14, 0, 0, 0, has_year_zero=False)\n",
      " cftime.DatetimeGregorian(2023, 8, 15, 15, 0, 0, 0, has_year_zero=False)\n",
      " cftime.DatetimeGregorian(2023, 8, 15, 16, 0, 0, 0, has_year_zero=False)\n",
      " cftime.DatetimeGregorian(2023, 8, 15, 17, 0, 0, 0, has_year_zero=False)\n",
      " cftime.DatetimeGregorian(2023, 8, 15, 18, 0, 0, 0, has_year_zero=False)\n",
      " cftime.DatetimeGregorian(2023, 8, 15, 19, 0, 0, 0, has_year_zero=False)\n",
      " cftime.DatetimeGregorian(2023, 8, 15, 20, 0, 0, 0, has_year_zero=False)\n",
      " cftime.DatetimeGregorian(2023, 8, 15, 21, 0, 0, 0, has_year_zero=False)\n",
      " cftime.DatetimeGregorian(2023, 8, 15, 22, 0, 0, 0, has_year_zero=False)\n",
      " cftime.DatetimeGregorian(2023, 8, 15, 23, 0, 0, 0, has_year_zero=False)]\n"
     ]
    }
   ],
   "source": [
    "print(dtime)"
   ]
  },
  {
   "cell_type": "code",
   "execution_count": 30,
   "metadata": {},
   "outputs": [
    {
     "name": "stdout",
     "output_type": "stream",
     "text": [
      "(38, 102, 118)\n"
     ]
    }
   ],
   "source": [
    "# Set AQI to very high inside some bounding box for testing\n",
    "\n",
    "# BB\n",
    "lon0 = 24.950\n",
    "lat0 = 60.183\n",
    "lon1 = 24.978\n",
    "lat1 = 60.195\n",
    "\n",
    "# lon0 = 24.9065\n",
    "# lat0 = 60.1737\n",
    "# lon1 = 24.9332\n",
    "# lat1 = 60.1862\n",
    "\n",
    "\n",
    "nc = Dataset(\n",
    "    \"./data/enfuser_helsinki_test.nc\", \"r+\"\n",
    ")\n",
    "\n",
    "\n",
    "lat = nc.variables[\"lat\"][:]\n",
    "lon = nc.variables[\"lon\"][:]\n",
    "\n",
    "lat_ind = (lat >= lat0) & (lat <= lat1)\n",
    "lon_ind = (lon >= lon0) & (lon <= lon1)\n",
    "\n",
    "print(nc.variables[\"index_of_airquality_194\"][:, lat_ind, lon_ind].shape)\n",
    "\n",
    "nc.variables[\"index_of_airquality_194\"][0, lat_ind, lon_ind] = 100\n",
    "\n",
    "# time = nc.variables[\"time\"][:]\n",
    "aqi = nc.variables[\"index_of_airquality_194\"][:]\n",
    "\n",
    "# print(aqi.shape)\n",
    "# print(nc.variables[\"index_of_airquality_194\"])\n",
    "\n",
    "# print(nc.variables[\"index_of_airquality_194\"][1,0,0])\n",
    "\n",
    "nc.close()"
   ]
  },
  {
   "cell_type": "code",
   "execution_count": 15,
   "metadata": {},
   "outputs": [
    {
     "name": "stdout",
     "output_type": "stream",
     "text": [
      "581\n"
     ]
    }
   ],
   "source": [
    "def geo_idx(dd, dd_array):\n",
    "   \"\"\"\n",
    "     search for nearest decimal degree in an array of decimal degrees and return the index.\n",
    "     np.argmin returns the indices of minium value along an axis.\n",
    "     so subtract dd from all values in dd_array, take absolute value and find index of minium.\n",
    "    \"\"\"\n",
    "   geo_idx = (np.abs(dd_array - dd)).argmin()\n",
    "   return geo_idx\n",
    "\n",
    "print(geo_idx(60.2, lat))"
   ]
  },
  {
   "cell_type": "code",
   "execution_count": 21,
   "metadata": {},
   "outputs": [
    {
     "name": "stdout",
     "output_type": "stream",
     "text": [
      "i: 0, time: 0, aqi: 2.4000000953674316\n",
      "i: 1, time: 1, aqi: 2.0999999046325684\n",
      "i: 2, time: 2, aqi: 2.200000047683716\n",
      "i: 3, time: 3, aqi: 2.200000047683716\n",
      "i: 4, time: 4, aqi: 2.0999999046325684\n",
      "i: 5, time: 5, aqi: 2.200000047683716\n",
      "i: 6, time: 6, aqi: 2.200000047683716\n",
      "i: 7, time: 7, aqi: 2.0999999046325684\n",
      "i: 8, time: 8, aqi: 2.200000047683716\n",
      "i: 9, time: 9, aqi: 2.299999952316284\n",
      "i: 10, time: 10, aqi: 2.200000047683716\n",
      "i: 11, time: 11, aqi: 2.0\n",
      "i: 12, time: 12, aqi: 2.0\n",
      "i: 13, time: 13, aqi: 2.0\n",
      "i: 14, time: 14, aqi: 2.0\n",
      "i: 15, time: 15, aqi: 2.200000047683716\n",
      "i: 16, time: 16, aqi: 2.4000000953674316\n",
      "i: 17, time: 17, aqi: 2.5\n",
      "i: 18, time: 18, aqi: 2.5\n",
      "i: 19, time: 19, aqi: 2.5999999046325684\n",
      "i: 20, time: 20, aqi: 2.700000047683716\n",
      "i: 21, time: 21, aqi: 3.0\n",
      "i: 22, time: 22, aqi: 3.299999952316284\n",
      "i: 23, time: 23, aqi: 3.0999999046325684\n",
      "i: 24, time: 24, aqi: 3.200000047683716\n",
      "i: 25, time: 25, aqi: 2.799999952316284\n",
      "i: 26, time: 26, aqi: 2.700000047683716\n",
      "i: 27, time: 27, aqi: 2.700000047683716\n",
      "i: 28, time: 28, aqi: 2.700000047683716\n",
      "i: 29, time: 29, aqi: 2.799999952316284\n",
      "i: 30, time: 30, aqi: 2.9000000953674316\n",
      "i: 31, time: 31, aqi: 2.9000000953674316\n",
      "i: 32, time: 32, aqi: 3.0\n",
      "i: 33, time: 33, aqi: 3.0\n",
      "i: 34, time: 34, aqi: 3.0\n",
      "i: 35, time: 35, aqi: 2.9000000953674316\n",
      "i: 36, time: 36, aqi: 2.700000047683716\n",
      "i: 37, time: 37, aqi: 2.5\n",
      "i: 38, time: 38, aqi: 2.4000000953674316\n",
      "i: 39, time: 39, aqi: 2.299999952316284\n"
     ]
    }
   ],
   "source": [
    "for i in range(aqi.shape[0]):\n",
    "    \n",
    "    print(f\"i: {i}, time: {time[i]}, aqi: {aqi[i,:,:].max().round(2)}\")"
   ]
  },
  {
   "cell_type": "code",
   "execution_count": 13,
   "metadata": {},
   "outputs": [
    {
     "name": "stdout",
     "output_type": "stream",
     "text": [
      "53\n"
     ]
    }
   ],
   "source": [
    "from geojson import Polygon, Feature, FeatureCollection\n",
    "\n",
    "# Get all the cell grids into a JSON\n",
    "\n",
    "# Not how it suppose to be done, but a quick hack to test the capabilities of Graphhopper\n",
    "\n",
    "lat_grid_size = np.diff(lat).mean()\n",
    "lon_grid_size = np.diff(lon).mean()\n",
    "\n",
    "delta_lat = lat_grid_size / 2\n",
    "delta_lon = lon_grid_size / 2\n",
    "\n",
    "# Original grid size 5309358\n",
    "max_cells = 5309358//100000\n",
    "print(max_cells)\n",
    "\n",
    "features = []\n",
    "feat_id = 0\n",
    "for x in lon:\n",
    "    for y in lat:\n",
    "        if feat_id > max_cells:\n",
    "            break\n",
    "        poly = Polygon(\n",
    "            [\n",
    "                [\n",
    "                    (x - delta_lon, y - delta_lat),\n",
    "                    (x - delta_lon, y + delta_lat),\n",
    "                    (x + delta_lon, y + delta_lat),\n",
    "                    (x + delta_lon, y - delta_lat),\n",
    "                    (x - delta_lon, y - delta_lat),\n",
    "                ]\n",
    "            ]\n",
    "        )\n",
    "        features.append(Feature(geometry=poly, id=feat_id))\n",
    "        feat_id = feat_id + 1\n",
    "\n",
    "\n",
    "feature_collection = FeatureCollection(features=features)"
   ]
  },
  {
   "cell_type": "code",
   "execution_count": 14,
   "metadata": {},
   "outputs": [
    {
     "data": {
      "text/plain": [
       "54"
      ]
     },
     "execution_count": 14,
     "metadata": {},
     "output_type": "execute_result"
    }
   ],
   "source": [
    "len(feature_collection[\"features\"])"
   ]
  },
  {
   "cell_type": "markdown",
   "metadata": {},
   "source": []
  },
  {
   "cell_type": "code",
   "execution_count": 15,
   "metadata": {},
   "outputs": [],
   "source": [
    "import geojson\n",
    "\n",
    "with open(\"areas.geojson\", \"w\") as f:\n",
    "    geojson.dump(feature_collection, f)\n"
   ]
  },
  {
   "cell_type": "code",
   "execution_count": 9,
   "metadata": {},
   "outputs": [
    {
     "data": {
      "text/plain": [
       "24.58"
      ]
     },
     "execution_count": 9,
     "metadata": {},
     "output_type": "execute_result"
    }
   ],
   "source": [
    "lon[]"
   ]
  },
  {
   "cell_type": "code",
   "execution_count": 16,
   "metadata": {},
   "outputs": [],
   "source": [
    "priorities = []\n",
    "\n",
    "feat_id = 0\n",
    "for x in range(aqi.shape[2]):  # lon\n",
    "    for y in range(aqi.shape[1]):  # lat\n",
    "        if feat_id > max_cells:\n",
    "            break\n",
    "        aqi_val = aqi[0, y, x]\n",
    "        priorities.append(\n",
    "            {\n",
    "                \"if\": f\"in_{feat_id}\",\n",
    "                \"multiply_by\": f\"{1/aqi_val}\",\n",
    "            }\n",
    "        )\n",
    "        feat_id = feat_id + 1\n",
    "\n",
    "aqi_model = {\"priority\": priorities}\n",
    "\n",
    "import json\n",
    "\n",
    "with open(\"aqi_model.json\", \"w\") as f:\n",
    "    json.dump(aqi_model, f)"
   ]
  },
  {
   "cell_type": "code",
   "execution_count": 47,
   "metadata": {},
   "outputs": [
    {
     "name": "stdout",
     "output_type": "stream",
     "text": [
      "Latitude:\n",
      "60.1321   60.368\n",
      "Mean resolution: 0.00011689835426474232\n",
      "Resolution: [0.00011444 0.00011826]\n",
      "------------------------------------\n",
      "Longitude:\n",
      "24.58   25.1998\n",
      "Mean resolution: 0.00023557604242757625\n",
      "Resolution: [0.0002346  0.00023651]\n",
      "------------------------------------\n"
     ]
    }
   ],
   "source": [
    "print(\"Latitude:\")\n",
    "print(lat[0], \" \", lat[-1])\n",
    "print(f\"Mean resolution: {(lat[-1]-lat[0])/len(lat)}\")\n",
    "print(f\"Resolution: {np.unique(np.diff(lat))}\")\n",
    "print(\"------------------------------------\")\n",
    "print(\"Longitude:\")\n",
    "print(lon[0], \" \", lon[-1])\n",
    "print(f\"Mean resolution: {(lon[-1]-lon[0])/len(lon)}\")\n",
    "print(f\"Resolution: {np.unique(np.diff(lon))}\")\n",
    "print(\"------------------------------------\")\n",
    "\n",
    "# fig, axes = plt.subplots(1,2)\n",
    "# ax = axes[0]\n",
    "# ax.plot(np.diff(lat), \".\")\n",
    "# ax.set_title(\"Latitude\")\n",
    "\n",
    "# ax = axes[1]\n",
    "# ax.plot(np.diff(lon), \".\")\n",
    "# ax.set_title(\"Longitude\")\n",
    "\n"
   ]
  },
  {
   "cell_type": "code",
   "execution_count": 20,
   "metadata": {},
   "outputs": [
    {
     "data": {
      "text/plain": [
       "<matplotlib.image.AxesImage at 0x7fc58f009060>"
      ]
     },
     "execution_count": 20,
     "metadata": {},
     "output_type": "execute_result"
    },
    {
     "data": {
      "image/png": "[encoded data removed]",
      "text/plain": [
       "<Figure size 640x480 with 1 Axes>"
      ]
     },
     "metadata": {},
     "output_type": "display_data"
    }
   ],
   "source": [
    "lons, lats = np.meshgrid(lon, lat)\n",
    "\n",
    "fig, ax = plt.subplots()\n",
    "\n",
    "ax.imshow(np.transpose(aqi[0, :, :], [0,1]), extent=[lat.min(), lat.max(), lon.min(), lon.max()])\n",
    "# ax.imshow(aqi[1, :, :], extent=[lon.min(), lon.max(), lat.min(), lat.max()])"
   ]
  }
 ],
 "metadata": {
  "kernelspec": {
   "display_name": "work",
   "language": "python",
   "name": "python3"
  },
  "language_info": {
   "codemirror_mode": {
    "name": "ipython",
    "version": 3
   },
   "file_extension": ".py",
   "mimetype": "text/x-python",
   "name": "python",
   "nbconvert_exporter": "python",
   "pygments_lexer": "ipython3",
   "version": "3.10.6"
  },
  "orig_nbformat": 4
 },
 "nbformat": 4,
 "nbformat_minor": 2
}
